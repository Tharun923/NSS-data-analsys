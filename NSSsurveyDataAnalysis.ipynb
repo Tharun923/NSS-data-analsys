{
 "cells": [
  {
   "cell_type": "code",
   "execution_count": 4,
   "metadata": {
    "collapsed": true
   },
   "outputs": [],
   "source": [
    "import numpy as np #linear algebra\n",
    "import pandas as pd # a data processing and CSV I/O library\n",
    "\n",
    "import warnings # current version of seaborn generates a bunch of warnings that will be ignore\n",
    "warnings.filterwarnings('ignore')\n",
    "\n",
    "# Data Visualization\n",
    "import seaborn as sns\n",
    "import matplotlib.pyplot as plt\n",
    "%matplotlib inline\n",
    "sns.set(style='white', color_codes=True)"
   ]
  },
  {
   "cell_type": "code",
   "execution_count": 5,
   "metadata": {},
   "outputs": [],
   "source": [
    "#Reading NSS data...........\n",
    "nss = pd.read_csv('KLU NSS.csv')"
   ]
  },
  {
   "cell_type": "code",
   "execution_count": 6,
   "metadata": {},
   "outputs": [
    {
     "data": {
      "text/html": [
       "<div>\n",
       "<style>\n",
       "    .dataframe thead tr:only-child th {\n",
       "        text-align: right;\n",
       "    }\n",
       "\n",
       "    .dataframe thead th {\n",
       "        text-align: left;\n",
       "    }\n",
       "\n",
       "    .dataframe tbody tr th {\n",
       "        vertical-align: top;\n",
       "    }\n",
       "</style>\n",
       "<table border=\"1\" class=\"dataframe\">\n",
       "  <thead>\n",
       "    <tr style=\"text-align: right;\">\n",
       "      <th></th>\n",
       "      <th>Village</th>\n",
       "      <th>Mode of Wages/ Income</th>\n",
       "      <th>How many in the family can use the mobile?</th>\n",
       "      <th>Type of TV</th>\n",
       "      <th>Number of people in the House</th>\n",
       "    </tr>\n",
       "  </thead>\n",
       "  <tbody>\n",
       "    <tr>\n",
       "      <th>0</th>\n",
       "      <td>Prathuru</td>\n",
       "      <td>Bank</td>\n",
       "      <td>4</td>\n",
       "      <td>Normal</td>\n",
       "      <td>4</td>\n",
       "    </tr>\n",
       "    <tr>\n",
       "      <th>1</th>\n",
       "      <td>Prathuru</td>\n",
       "      <td>Bank</td>\n",
       "      <td>4</td>\n",
       "      <td>Smart</td>\n",
       "      <td>6</td>\n",
       "    </tr>\n",
       "    <tr>\n",
       "      <th>2</th>\n",
       "      <td>Nuthakki</td>\n",
       "      <td>Cash</td>\n",
       "      <td>4</td>\n",
       "      <td>Normal</td>\n",
       "      <td>8</td>\n",
       "    </tr>\n",
       "    <tr>\n",
       "      <th>3</th>\n",
       "      <td>Nuthakki</td>\n",
       "      <td>Cash</td>\n",
       "      <td>0</td>\n",
       "      <td>NO TV</td>\n",
       "      <td>1</td>\n",
       "    </tr>\n",
       "    <tr>\n",
       "      <th>4</th>\n",
       "      <td>Nuthakki</td>\n",
       "      <td>Cash</td>\n",
       "      <td>2</td>\n",
       "      <td>NO TV</td>\n",
       "      <td>5</td>\n",
       "    </tr>\n",
       "    <tr>\n",
       "      <th>5</th>\n",
       "      <td>Nuthakki</td>\n",
       "      <td>Bank</td>\n",
       "      <td>2</td>\n",
       "      <td>Normal</td>\n",
       "      <td>5</td>\n",
       "    </tr>\n",
       "    <tr>\n",
       "      <th>6</th>\n",
       "      <td>Nuthakki</td>\n",
       "      <td>Cash</td>\n",
       "      <td>4</td>\n",
       "      <td>Normal</td>\n",
       "      <td>6</td>\n",
       "    </tr>\n",
       "    <tr>\n",
       "      <th>7</th>\n",
       "      <td>Nuthakki</td>\n",
       "      <td>Cash</td>\n",
       "      <td>4</td>\n",
       "      <td>Normal</td>\n",
       "      <td>3</td>\n",
       "    </tr>\n",
       "    <tr>\n",
       "      <th>8</th>\n",
       "      <td>Mellempudi</td>\n",
       "      <td>Bank</td>\n",
       "      <td>2</td>\n",
       "      <td>Normal</td>\n",
       "      <td>2</td>\n",
       "    </tr>\n",
       "    <tr>\n",
       "      <th>9</th>\n",
       "      <td>Mellempudi</td>\n",
       "      <td>Cash</td>\n",
       "      <td>2</td>\n",
       "      <td>Smart</td>\n",
       "      <td>8</td>\n",
       "    </tr>\n",
       "    <tr>\n",
       "      <th>10</th>\n",
       "      <td>Mellempudi</td>\n",
       "      <td>Cash</td>\n",
       "      <td>2</td>\n",
       "      <td>Normal</td>\n",
       "      <td>3</td>\n",
       "    </tr>\n",
       "    <tr>\n",
       "      <th>11</th>\n",
       "      <td>Ippatam</td>\n",
       "      <td>Cash</td>\n",
       "      <td>3</td>\n",
       "      <td>Smart</td>\n",
       "      <td>3</td>\n",
       "    </tr>\n",
       "    <tr>\n",
       "      <th>12</th>\n",
       "      <td>Mellempudi</td>\n",
       "      <td>Cash</td>\n",
       "      <td>1</td>\n",
       "      <td>Normal</td>\n",
       "      <td>1</td>\n",
       "    </tr>\n",
       "    <tr>\n",
       "      <th>13</th>\n",
       "      <td>Peddapalem</td>\n",
       "      <td>Cash</td>\n",
       "      <td>5</td>\n",
       "      <td>Normal</td>\n",
       "      <td>7</td>\n",
       "    </tr>\n",
       "    <tr>\n",
       "      <th>14</th>\n",
       "      <td>Ippatam</td>\n",
       "      <td>Cash</td>\n",
       "      <td>2</td>\n",
       "      <td>Normal</td>\n",
       "      <td>2</td>\n",
       "    </tr>\n",
       "    <tr>\n",
       "      <th>15</th>\n",
       "      <td>Peddapalem</td>\n",
       "      <td>Cash</td>\n",
       "      <td>2</td>\n",
       "      <td>Normal</td>\n",
       "      <td>2</td>\n",
       "    </tr>\n",
       "    <tr>\n",
       "      <th>16</th>\n",
       "      <td>Peddapalem</td>\n",
       "      <td>Cash</td>\n",
       "      <td>0</td>\n",
       "      <td>Normal</td>\n",
       "      <td>5</td>\n",
       "    </tr>\n",
       "    <tr>\n",
       "      <th>17</th>\n",
       "      <td>Peddapalem</td>\n",
       "      <td>Cash</td>\n",
       "      <td>4</td>\n",
       "      <td>Normal</td>\n",
       "      <td>4</td>\n",
       "    </tr>\n",
       "    <tr>\n",
       "      <th>18</th>\n",
       "      <td>Peddapalem</td>\n",
       "      <td>Bank</td>\n",
       "      <td>2</td>\n",
       "      <td>Normal</td>\n",
       "      <td>6</td>\n",
       "    </tr>\n",
       "    <tr>\n",
       "      <th>19</th>\n",
       "      <td>Ippatam</td>\n",
       "      <td>Cash</td>\n",
       "      <td>2</td>\n",
       "      <td>Normal</td>\n",
       "      <td>4</td>\n",
       "    </tr>\n",
       "    <tr>\n",
       "      <th>20</th>\n",
       "      <td>Ippatam</td>\n",
       "      <td>Cash</td>\n",
       "      <td>1</td>\n",
       "      <td>Normal</td>\n",
       "      <td>4</td>\n",
       "    </tr>\n",
       "    <tr>\n",
       "      <th>21</th>\n",
       "      <td>Ippatam</td>\n",
       "      <td>Cash</td>\n",
       "      <td>0</td>\n",
       "      <td>NO TV</td>\n",
       "      <td>2</td>\n",
       "    </tr>\n",
       "    <tr>\n",
       "      <th>22</th>\n",
       "      <td>Ippatam</td>\n",
       "      <td>Bank</td>\n",
       "      <td>0</td>\n",
       "      <td>Normal</td>\n",
       "      <td>1</td>\n",
       "    </tr>\n",
       "    <tr>\n",
       "      <th>23</th>\n",
       "      <td>Athmakuru</td>\n",
       "      <td>Cash</td>\n",
       "      <td>4</td>\n",
       "      <td>Smart</td>\n",
       "      <td>4</td>\n",
       "    </tr>\n",
       "    <tr>\n",
       "      <th>24</th>\n",
       "      <td>Athmakuru</td>\n",
       "      <td>Cash</td>\n",
       "      <td>3</td>\n",
       "      <td>Smart</td>\n",
       "      <td>4</td>\n",
       "    </tr>\n",
       "    <tr>\n",
       "      <th>25</th>\n",
       "      <td>Athmakuru</td>\n",
       "      <td>Cash</td>\n",
       "      <td>2</td>\n",
       "      <td>Normal</td>\n",
       "      <td>5</td>\n",
       "    </tr>\n",
       "    <tr>\n",
       "      <th>26</th>\n",
       "      <td>Athmakuru</td>\n",
       "      <td>Cash</td>\n",
       "      <td>2</td>\n",
       "      <td>Normal</td>\n",
       "      <td>2</td>\n",
       "    </tr>\n",
       "    <tr>\n",
       "      <th>27</th>\n",
       "      <td>Mellempudi</td>\n",
       "      <td>Cash</td>\n",
       "      <td>2</td>\n",
       "      <td>Normal</td>\n",
       "      <td>2</td>\n",
       "    </tr>\n",
       "    <tr>\n",
       "      <th>28</th>\n",
       "      <td>Mellempudi</td>\n",
       "      <td>Bank</td>\n",
       "      <td>3</td>\n",
       "      <td>Normal</td>\n",
       "      <td>4</td>\n",
       "    </tr>\n",
       "    <tr>\n",
       "      <th>29</th>\n",
       "      <td>Mellempudi</td>\n",
       "      <td>Bank</td>\n",
       "      <td>4</td>\n",
       "      <td>Smart</td>\n",
       "      <td>5</td>\n",
       "    </tr>\n",
       "    <tr>\n",
       "      <th>30</th>\n",
       "      <td>Mellempudi</td>\n",
       "      <td>Cash</td>\n",
       "      <td>1</td>\n",
       "      <td>Normal</td>\n",
       "      <td>1</td>\n",
       "    </tr>\n",
       "    <tr>\n",
       "      <th>31</th>\n",
       "      <td>Mellempudi</td>\n",
       "      <td>Cash</td>\n",
       "      <td>1</td>\n",
       "      <td>Normal</td>\n",
       "      <td>2</td>\n",
       "    </tr>\n",
       "    <tr>\n",
       "      <th>32</th>\n",
       "      <td>Mellempudi</td>\n",
       "      <td>Cash</td>\n",
       "      <td>2</td>\n",
       "      <td>Normal</td>\n",
       "      <td>4</td>\n",
       "    </tr>\n",
       "    <tr>\n",
       "      <th>33</th>\n",
       "      <td>Athmakuru</td>\n",
       "      <td>Bank</td>\n",
       "      <td>3</td>\n",
       "      <td>Normal</td>\n",
       "      <td>3</td>\n",
       "    </tr>\n",
       "    <tr>\n",
       "      <th>34</th>\n",
       "      <td>Athmakuru</td>\n",
       "      <td>Cash</td>\n",
       "      <td>4</td>\n",
       "      <td>Normal</td>\n",
       "      <td>10</td>\n",
       "    </tr>\n",
       "    <tr>\n",
       "      <th>35</th>\n",
       "      <td>Athmakuru</td>\n",
       "      <td>Cash</td>\n",
       "      <td>1</td>\n",
       "      <td>Normal</td>\n",
       "      <td>3</td>\n",
       "    </tr>\n",
       "    <tr>\n",
       "      <th>36</th>\n",
       "      <td>Athmakuru</td>\n",
       "      <td>Cash</td>\n",
       "      <td>2</td>\n",
       "      <td>Normal</td>\n",
       "      <td>4</td>\n",
       "    </tr>\n",
       "    <tr>\n",
       "      <th>37</th>\n",
       "      <td>Athmakuru</td>\n",
       "      <td>Cash</td>\n",
       "      <td>3</td>\n",
       "      <td>Normal</td>\n",
       "      <td>4</td>\n",
       "    </tr>\n",
       "    <tr>\n",
       "      <th>38</th>\n",
       "      <td>Athmakuru</td>\n",
       "      <td>Cash</td>\n",
       "      <td>3</td>\n",
       "      <td>Normal</td>\n",
       "      <td>4</td>\n",
       "    </tr>\n",
       "    <tr>\n",
       "      <th>39</th>\n",
       "      <td>Athmakuru</td>\n",
       "      <td>Bank</td>\n",
       "      <td>2</td>\n",
       "      <td>Normal</td>\n",
       "      <td>4</td>\n",
       "    </tr>\n",
       "    <tr>\n",
       "      <th>40</th>\n",
       "      <td>Athmakuru</td>\n",
       "      <td>Cash</td>\n",
       "      <td>4</td>\n",
       "      <td>NO TV</td>\n",
       "      <td>4</td>\n",
       "    </tr>\n",
       "    <tr>\n",
       "      <th>41</th>\n",
       "      <td>Athmakuru</td>\n",
       "      <td>Cash</td>\n",
       "      <td>0</td>\n",
       "      <td>NO TV</td>\n",
       "      <td>4</td>\n",
       "    </tr>\n",
       "    <tr>\n",
       "      <th>42</th>\n",
       "      <td>Athmakuru</td>\n",
       "      <td>Cash</td>\n",
       "      <td>1</td>\n",
       "      <td>Normal</td>\n",
       "      <td>2</td>\n",
       "    </tr>\n",
       "    <tr>\n",
       "      <th>43</th>\n",
       "      <td>Athmakuru</td>\n",
       "      <td>Bank</td>\n",
       "      <td>4</td>\n",
       "      <td>Smart</td>\n",
       "      <td>5</td>\n",
       "    </tr>\n",
       "    <tr>\n",
       "      <th>44</th>\n",
       "      <td>Athmakuru</td>\n",
       "      <td>Bank</td>\n",
       "      <td>3</td>\n",
       "      <td>Normal</td>\n",
       "      <td>6</td>\n",
       "    </tr>\n",
       "    <tr>\n",
       "      <th>45</th>\n",
       "      <td>Athmakuru</td>\n",
       "      <td>Cash</td>\n",
       "      <td>2</td>\n",
       "      <td>Normal</td>\n",
       "      <td>4</td>\n",
       "    </tr>\n",
       "    <tr>\n",
       "      <th>46</th>\n",
       "      <td>Ippatam</td>\n",
       "      <td>Cash</td>\n",
       "      <td>1</td>\n",
       "      <td>Normal</td>\n",
       "      <td>2</td>\n",
       "    </tr>\n",
       "    <tr>\n",
       "      <th>47</th>\n",
       "      <td>Peddapalem</td>\n",
       "      <td>Cash</td>\n",
       "      <td>1</td>\n",
       "      <td>Normal</td>\n",
       "      <td>3</td>\n",
       "    </tr>\n",
       "    <tr>\n",
       "      <th>48</th>\n",
       "      <td>Peddapalem</td>\n",
       "      <td>Cash</td>\n",
       "      <td>1</td>\n",
       "      <td>Normal</td>\n",
       "      <td>4</td>\n",
       "    </tr>\n",
       "    <tr>\n",
       "      <th>49</th>\n",
       "      <td>Peddapalem</td>\n",
       "      <td>Cash</td>\n",
       "      <td>1</td>\n",
       "      <td>Normal</td>\n",
       "      <td>4</td>\n",
       "    </tr>\n",
       "  </tbody>\n",
       "</table>\n",
       "</div>"
      ],
      "text/plain": [
       "       Village Mode of Wages/ Income  \\\n",
       "0     Prathuru                  Bank   \n",
       "1     Prathuru                  Bank   \n",
       "2     Nuthakki                  Cash   \n",
       "3     Nuthakki                  Cash   \n",
       "4     Nuthakki                  Cash   \n",
       "5     Nuthakki                  Bank   \n",
       "6     Nuthakki                  Cash   \n",
       "7     Nuthakki                  Cash   \n",
       "8   Mellempudi                  Bank   \n",
       "9   Mellempudi                  Cash   \n",
       "10  Mellempudi                  Cash   \n",
       "11     Ippatam                  Cash   \n",
       "12  Mellempudi                  Cash   \n",
       "13  Peddapalem                  Cash   \n",
       "14     Ippatam                  Cash   \n",
       "15  Peddapalem                  Cash   \n",
       "16  Peddapalem                  Cash   \n",
       "17  Peddapalem                  Cash   \n",
       "18  Peddapalem                  Bank   \n",
       "19     Ippatam                  Cash   \n",
       "20     Ippatam                  Cash   \n",
       "21     Ippatam                  Cash   \n",
       "22     Ippatam                  Bank   \n",
       "23   Athmakuru                  Cash   \n",
       "24   Athmakuru                  Cash   \n",
       "25   Athmakuru                  Cash   \n",
       "26   Athmakuru                  Cash   \n",
       "27  Mellempudi                  Cash   \n",
       "28  Mellempudi                  Bank   \n",
       "29  Mellempudi                  Bank   \n",
       "30  Mellempudi                  Cash   \n",
       "31  Mellempudi                  Cash   \n",
       "32  Mellempudi                  Cash   \n",
       "33   Athmakuru                  Bank   \n",
       "34   Athmakuru                  Cash   \n",
       "35   Athmakuru                  Cash   \n",
       "36   Athmakuru                  Cash   \n",
       "37   Athmakuru                  Cash   \n",
       "38   Athmakuru                  Cash   \n",
       "39   Athmakuru                  Bank   \n",
       "40   Athmakuru                  Cash   \n",
       "41   Athmakuru                  Cash   \n",
       "42   Athmakuru                  Cash   \n",
       "43   Athmakuru                  Bank   \n",
       "44   Athmakuru                  Bank   \n",
       "45   Athmakuru                  Cash   \n",
       "46     Ippatam                  Cash   \n",
       "47  Peddapalem                  Cash   \n",
       "48  Peddapalem                  Cash   \n",
       "49  Peddapalem                  Cash   \n",
       "\n",
       "    How many in the family can use the mobile? Type of TV   \\\n",
       "0                                            4      Normal   \n",
       "1                                            4       Smart   \n",
       "2                                            4      Normal   \n",
       "3                                            0       NO TV   \n",
       "4                                            2       NO TV   \n",
       "5                                            2      Normal   \n",
       "6                                            4      Normal   \n",
       "7                                            4      Normal   \n",
       "8                                            2      Normal   \n",
       "9                                            2       Smart   \n",
       "10                                           2      Normal   \n",
       "11                                           3       Smart   \n",
       "12                                           1      Normal   \n",
       "13                                           5      Normal   \n",
       "14                                           2      Normal   \n",
       "15                                           2      Normal   \n",
       "16                                           0      Normal   \n",
       "17                                           4      Normal   \n",
       "18                                           2      Normal   \n",
       "19                                           2      Normal   \n",
       "20                                           1      Normal   \n",
       "21                                           0       NO TV   \n",
       "22                                           0      Normal   \n",
       "23                                           4       Smart   \n",
       "24                                           3       Smart   \n",
       "25                                           2      Normal   \n",
       "26                                           2      Normal   \n",
       "27                                           2      Normal   \n",
       "28                                           3      Normal   \n",
       "29                                           4       Smart   \n",
       "30                                           1      Normal   \n",
       "31                                           1      Normal   \n",
       "32                                           2      Normal   \n",
       "33                                           3      Normal   \n",
       "34                                           4      Normal   \n",
       "35                                           1      Normal   \n",
       "36                                           2      Normal   \n",
       "37                                           3      Normal   \n",
       "38                                           3      Normal   \n",
       "39                                           2      Normal   \n",
       "40                                           4       NO TV   \n",
       "41                                           0       NO TV   \n",
       "42                                           1      Normal   \n",
       "43                                           4       Smart   \n",
       "44                                           3      Normal   \n",
       "45                                           2      Normal   \n",
       "46                                           1      Normal   \n",
       "47                                           1      Normal   \n",
       "48                                           1      Normal   \n",
       "49                                           1      Normal   \n",
       "\n",
       "    Number of people in the House  \n",
       "0                               4  \n",
       "1                               6  \n",
       "2                               8  \n",
       "3                               1  \n",
       "4                               5  \n",
       "5                               5  \n",
       "6                               6  \n",
       "7                               3  \n",
       "8                               2  \n",
       "9                               8  \n",
       "10                              3  \n",
       "11                              3  \n",
       "12                              1  \n",
       "13                              7  \n",
       "14                              2  \n",
       "15                              2  \n",
       "16                              5  \n",
       "17                              4  \n",
       "18                              6  \n",
       "19                              4  \n",
       "20                              4  \n",
       "21                              2  \n",
       "22                              1  \n",
       "23                              4  \n",
       "24                              4  \n",
       "25                              5  \n",
       "26                              2  \n",
       "27                              2  \n",
       "28                              4  \n",
       "29                              5  \n",
       "30                              1  \n",
       "31                              2  \n",
       "32                              4  \n",
       "33                              3  \n",
       "34                             10  \n",
       "35                              3  \n",
       "36                              4  \n",
       "37                              4  \n",
       "38                              4  \n",
       "39                              4  \n",
       "40                              4  \n",
       "41                              4  \n",
       "42                              2  \n",
       "43                              5  \n",
       "44                              6  \n",
       "45                              4  \n",
       "46                              2  \n",
       "47                              3  \n",
       "48                              4  \n",
       "49                              4  "
      ]
     },
     "execution_count": 6,
     "metadata": {},
     "output_type": "execute_result"
    }
   ],
   "source": [
    "nss.head(50)"
   ]
  },
  {
   "cell_type": "code",
   "execution_count": 9,
   "metadata": {},
   "outputs": [
    {
     "data": {
      "text/plain": [
       "Peddapalem       602\n",
       "Chirravuru       584\n",
       "Athmakuru        535\n",
       "Kolanukonda      332\n",
       "Ippatam          281\n",
       "Mellempudi       258\n",
       "Chinnapalem      251\n",
       "Gundimeda        225\n",
       "Nuthakki         221\n",
       "Revendrapadu     140\n",
       "Prathuru         135\n",
       "Vaddeswaram      132\n",
       "Kunchenapalli     50\n",
       "Seetanagaram       4\n",
       "Undavalli          2\n",
       "Name: Village, dtype: int64"
      ]
     },
     "execution_count": 9,
     "metadata": {},
     "output_type": "execute_result"
    }
   ],
   "source": [
    "nss['Village'].value_counts()"
   ]
  },
  {
   "cell_type": "code",
   "execution_count": 10,
   "metadata": {},
   "outputs": [
    {
     "data": {
      "text/plain": [
       "Cash    2988\n",
       "Bank     764\n",
       "Name: Mode of Wages/ Income, dtype: int64"
      ]
     },
     "execution_count": 10,
     "metadata": {},
     "output_type": "execute_result"
    }
   ],
   "source": [
    "nss['Mode of Wages/ Income'].value_counts()"
   ]
  },
  {
   "cell_type": "code",
   "execution_count": 11,
   "metadata": {},
   "outputs": [
    {
     "data": {
      "text/plain": [
       "<matplotlib.axes._subplots.AxesSubplot at 0x7f6ecd0320f0>"
      ]
     },
     "execution_count": 11,
     "metadata": {},
     "output_type": "execute_result"
    },
    {
     "data": {
      "image/png": "[encoded data removed]",
      "text/plain": [
       "<matplotlib.figure.Figure at 0x7f6ecd01ec18>"
      ]
     },
     "metadata": {},
     "output_type": "display_data"
    }
   ],
   "source": [
    "nss.plot(kind='scatter',x='Number of people in the House', y='How many in the family can use the mobile?')"
   ]
  },
  {
   "cell_type": "code",
   "execution_count": 12,
   "metadata": {},
   "outputs": [
    {
     "data": {
      "text/plain": [
       "<seaborn.axisgrid.JointGrid at 0x7f6ec5bdd550>"
      ]
     },
     "execution_count": 12,
     "metadata": {},
     "output_type": "execute_result"
    },
    {
     "data": {
      "image/png": "[encoded data removed]",
      "text/plain": [
       "<matplotlib.figure.Figure at 0x7f6ec5bdd160>"
      ]
     },
     "metadata": {},
     "output_type": "display_data"
    }
   ],
   "source": [
    "sns.jointplot(x='Number of people in the House', y='How many in the family can use the mobile?', data=nss, size=10)"
   ]
  },
  {
   "cell_type": "code",
   "execution_count": 13,
   "metadata": {},
   "outputs": [
    {
     "name": "stdout",
     "output_type": "stream",
     "text": [
      "<class 'pandas.core.frame.DataFrame'>\n",
      "RangeIndex: 3752 entries, 0 to 3751\n",
      "Data columns (total 5 columns):\n",
      "Village                                       3752 non-null object\n",
      "Mode of Wages/ Income                         3752 non-null object\n",
      "How many in the family can use the mobile?    3752 non-null int64\n",
      "Type of TV                                    3687 non-null object\n",
      "Number of people in the House                 3752 non-null int64\n",
      "dtypes: int64(2), object(3)\n",
      "memory usage: 146.6+ KB\n"
     ]
    }
   ],
   "source": [
    "nss.info()"
   ]
  },
  {
   "cell_type": "code",
   "execution_count": 14,
   "metadata": {},
   "outputs": [
    {
     "name": "stderr",
     "output_type": "stream",
     "text": [
      "/root/anaconda3/lib/python3.6/site-packages/sklearn/cross_validation.py:41: DeprecationWarning: This module was deprecated in version 0.18 in favor of the model_selection module into which all the refactored classes and functions are moved. Also note that the interface of the new CV iterators are different from that of this module. This module will be removed in 0.20.\n",
      "  \"This module will be removed in 0.20.\", DeprecationWarning)\n"
     ]
    }
   ],
   "source": [
    "# importing alll the necessary packages to use the various classification algorithms\n",
    "from sklearn.linear_model import LogisticRegression # for Logistic Regression Algorithm\n",
    "from sklearn.cross_validation import train_test_split # to split the dataset for training and testing \n",
    "from sklearn.neighbors import KNeighborsClassifier # KNN classifier\n",
    "from sklearn import svm # for suport vector machine algorithm\n",
    "from sklearn import metrics # for checking the model accuracy\n",
    "from sklearn.tree import DecisionTreeClassifier # for using DTA"
   ]
  },
  {
   "cell_type": "code",
   "execution_count": 15,
   "metadata": {},
   "outputs": [
    {
     "data": {
      "text/plain": [
       "(3752, 5)"
      ]
     },
     "execution_count": 15,
     "metadata": {},
     "output_type": "execute_result"
    }
   ],
   "source": [
    "nss.shape"
   ]
  },
  {
   "cell_type": "code",
   "execution_count": 16,
   "metadata": {},
   "outputs": [
    {
     "data": {
      "image/png": "[encoded data removed]",
      "text/plain": [
       "<matplotlib.figure.Figure at 0x7f6ec250a978>"
      ]
     },
     "metadata": {},
     "output_type": "display_data"
    }
   ],
   "source": [
    "plt.figure(figsize=(10,5))\n",
    "sns.heatmap(nss.corr(), annot=True, cmap='cubehelix_r') # draws heatmap with input as correlation matrix calculated by iris.corr() \n",
    "plt.show()"
   ]
  },
  {
   "cell_type": "code",
   "execution_count": 17,
   "metadata": {},
   "outputs": [
    {
     "name": "stdout",
     "output_type": "stream",
     "text": [
      "(2626, 5)\n",
      "(1126, 5)\n"
     ]
    }
   ],
   "source": [
    "train, test = train_test_split(nss, test_size=0.3) # our main data split into train and test\n",
    "# the attribute test_size=0.3 splits the data into 70% and 30% ratio. train=70% and test=30%\n",
    "print(train.shape)\n",
    "print(test.shape)"
   ]
  },
  {
   "cell_type": "code",
   "execution_count": 21,
   "metadata": {},
   "outputs": [],
   "source": [
    "train_X = train[['How many in the family can use the mobile?','Number of people in the House']] # taking the training data features\n",
    "train_y = train.Village # output of the training data\n",
    "\n",
    "test_X = test[['How many in the family can use the mobile?','Number of people in the House']] # taking test data feature\n",
    "test_y = test.Village # output value of the test data"
   ]
  },
  {
   "cell_type": "code",
   "execution_count": 22,
   "metadata": {},
   "outputs": [
    {
     "data": {
      "text/html": [
       "<div>\n",
       "<style>\n",
       "    .dataframe thead tr:only-child th {\n",
       "        text-align: right;\n",
       "    }\n",
       "\n",
       "    .dataframe thead th {\n",
       "        text-align: left;\n",
       "    }\n",
       "\n",
       "    .dataframe tbody tr th {\n",
       "        vertical-align: top;\n",
       "    }\n",
       "</style>\n",
       "<table border=\"1\" class=\"dataframe\">\n",
       "  <thead>\n",
       "    <tr style=\"text-align: right;\">\n",
       "      <th></th>\n",
       "      <th>How many in the family can use the mobile?</th>\n",
       "      <th>Number of people in the House</th>\n",
       "    </tr>\n",
       "  </thead>\n",
       "  <tbody>\n",
       "    <tr>\n",
       "      <th>3311</th>\n",
       "      <td>1</td>\n",
       "      <td>2</td>\n",
       "    </tr>\n",
       "    <tr>\n",
       "      <th>141</th>\n",
       "      <td>6</td>\n",
       "      <td>9</td>\n",
       "    </tr>\n",
       "    <tr>\n",
       "      <th>3245</th>\n",
       "      <td>1</td>\n",
       "      <td>4</td>\n",
       "    </tr>\n",
       "    <tr>\n",
       "      <th>1845</th>\n",
       "      <td>2</td>\n",
       "      <td>2</td>\n",
       "    </tr>\n",
       "    <tr>\n",
       "      <th>2547</th>\n",
       "      <td>1</td>\n",
       "      <td>2</td>\n",
       "    </tr>\n",
       "  </tbody>\n",
       "</table>\n",
       "</div>"
      ],
      "text/plain": [
       "      How many in the family can use the mobile?  \\\n",
       "3311                                           1   \n",
       "141                                            6   \n",
       "3245                                           1   \n",
       "1845                                           2   \n",
       "2547                                           1   \n",
       "\n",
       "      Number of people in the House  \n",
       "3311                              2  \n",
       "141                               9  \n",
       "3245                              4  \n",
       "1845                              2  \n",
       "2547                              2  "
      ]
     },
     "execution_count": 22,
     "metadata": {},
     "output_type": "execute_result"
    }
   ],
   "source": [
    "train_X.head()"
   ]
  },
  {
   "cell_type": "code",
   "execution_count": 23,
   "metadata": {},
   "outputs": [
    {
     "data": {
      "text/html": [
       "<div>\n",
       "<style>\n",
       "    .dataframe thead tr:only-child th {\n",
       "        text-align: right;\n",
       "    }\n",
       "\n",
       "    .dataframe thead th {\n",
       "        text-align: left;\n",
       "    }\n",
       "\n",
       "    .dataframe tbody tr th {\n",
       "        vertical-align: top;\n",
       "    }\n",
       "</style>\n",
       "<table border=\"1\" class=\"dataframe\">\n",
       "  <thead>\n",
       "    <tr style=\"text-align: right;\">\n",
       "      <th></th>\n",
       "      <th>How many in the family can use the mobile?</th>\n",
       "      <th>Number of people in the House</th>\n",
       "    </tr>\n",
       "  </thead>\n",
       "  <tbody>\n",
       "    <tr>\n",
       "      <th>309</th>\n",
       "      <td>1</td>\n",
       "      <td>2</td>\n",
       "    </tr>\n",
       "    <tr>\n",
       "      <th>296</th>\n",
       "      <td>4</td>\n",
       "      <td>6</td>\n",
       "    </tr>\n",
       "    <tr>\n",
       "      <th>352</th>\n",
       "      <td>1</td>\n",
       "      <td>4</td>\n",
       "    </tr>\n",
       "    <tr>\n",
       "      <th>3046</th>\n",
       "      <td>0</td>\n",
       "      <td>3</td>\n",
       "    </tr>\n",
       "    <tr>\n",
       "      <th>619</th>\n",
       "      <td>0</td>\n",
       "      <td>1</td>\n",
       "    </tr>\n",
       "  </tbody>\n",
       "</table>\n",
       "</div>"
      ],
      "text/plain": [
       "      How many in the family can use the mobile?  \\\n",
       "309                                            1   \n",
       "296                                            4   \n",
       "352                                            1   \n",
       "3046                                           0   \n",
       "619                                            0   \n",
       "\n",
       "      Number of people in the House  \n",
       "309                               2  \n",
       "296                               6  \n",
       "352                               4  \n",
       "3046                              3  \n",
       "619                               1  "
      ]
     },
     "execution_count": 23,
     "metadata": {},
     "output_type": "execute_result"
    }
   ],
   "source": [
    "test_X.head()"
   ]
  },
  {
   "cell_type": "code",
   "execution_count": 24,
   "metadata": {},
   "outputs": [
    {
     "data": {
      "text/plain": [
       "3311        Prathuru\n",
       "141       Mellempudi\n",
       "3245    Revendrapadu\n",
       "1845      Chirravuru\n",
       "2547      Peddapalem\n",
       "Name: Village, dtype: object"
      ]
     },
     "execution_count": 24,
     "metadata": {},
     "output_type": "execute_result"
    }
   ],
   "source": [
    "train_y.head()\n"
   ]
  },
  {
   "cell_type": "code",
   "execution_count": 25,
   "metadata": {},
   "outputs": [
    {
     "name": "stdout",
     "output_type": "stream",
     "text": [
      "The accuracy of the SVM is:  0.180284191829\n"
     ]
    }
   ],
   "source": [
    "model = svm.SVC() # select the svm algorithm\n",
    "\n",
    "# we train the algorithm with training data and training output\n",
    "model.fit(train_X, train_y)\n",
    "\n",
    "# we pass the testing data to the stored algorithm to predict the outcome\n",
    "prediction = model.predict(test_X)\n",
    "print('The accuracy of the SVM is: ', metrics.accuracy_score(prediction, test_y)) # we check the accuracy of the algorithm\n",
    "#we pass the predicted output by the model and the actual output"
   ]
  },
  {
   "cell_type": "code",
   "execution_count": 26,
   "metadata": {},
   "outputs": [
    {
     "name": "stdout",
     "output_type": "stream",
     "text": [
      "The accuracy of Logistic Regression is:  0.16785079929\n"
     ]
    }
   ],
   "source": [
    "model = LogisticRegression()\n",
    "model.fit(train_X, train_y)\n",
    "prediction = model.predict(test_X)\n",
    "print('The accuracy of Logistic Regression is: ', metrics.accuracy_score(prediction, test_y))"
   ]
  },
  {
   "cell_type": "code",
   "execution_count": 27,
   "metadata": {},
   "outputs": [
    {
     "name": "stdout",
     "output_type": "stream",
     "text": [
      "The accuracy of Decision Tree is:  0.178507992895\n"
     ]
    }
   ],
   "source": [
    "model = DecisionTreeClassifier()\n",
    "model.fit(train_X, train_y)\n",
    "prediction = model.predict(test_X)\n",
    "print('The accuracy of Decision Tree is: ', metrics.accuracy_score(prediction, test_y))"
   ]
  },
  {
   "cell_type": "code",
   "execution_count": 28,
   "metadata": {},
   "outputs": [
    {
     "name": "stdout",
     "output_type": "stream",
     "text": [
      "The accuracy of KNN is:  0.119005328597\n"
     ]
    }
   ],
   "source": [
    "model = KNeighborsClassifier(n_neighbors=3) # this examines 3 neighbors for putting the data into class\n",
    "model.fit(train_X, train_y)\n",
    "prediction = model.predict(test_X)\n",
    "print('The accuracy of KNN is: ', metrics.accuracy_score(prediction, test_y))"
   ]
  },
  {
   "cell_type": "code",
   "execution_count": 29,
   "metadata": {},
   "outputs": [
    {
     "data": {
      "text/plain": [
       "([<matplotlib.axis.XTick at 0x7f6ec1904860>,\n",
       "  <matplotlib.axis.XTick at 0x7f6ec1904c88>,\n",
       "  <matplotlib.axis.XTick at 0x7f6ec1918748>,\n",
       "  <matplotlib.axis.XTick at 0x7f6ec14c0588>,\n",
       "  <matplotlib.axis.XTick at 0x7f6ec14c0cc0>,\n",
       "  <matplotlib.axis.XTick at 0x7f6ec14c4438>,\n",
       "  <matplotlib.axis.XTick at 0x7f6ec14c4b70>,\n",
       "  <matplotlib.axis.XTick at 0x7f6ec14c82e8>,\n",
       "  <matplotlib.axis.XTick at 0x7f6ec14c8a20>,\n",
       "  <matplotlib.axis.XTick at 0x7f6ec14cf198>],\n",
       " <a list of 10 Text xticklabel objects>)"
      ]
     },
     "execution_count": 29,
     "metadata": {},
     "output_type": "execute_result"
    },
    {
     "data": {
      "image/png": "[encoded data removed]",
      "text/plain": [
       "<matplotlib.figure.Figure at 0x7f6ec190c2e8>"
      ]
     },
     "metadata": {},
     "output_type": "display_data"
    }
   ],
   "source": [
    "a_index = list(range(1,11))\n",
    "a = pd.Series()\n",
    "for i in list(range(1,11)):\n",
    "    model = KNeighborsClassifier(n_neighbors=i)\n",
    "    model.fit(train_X, train_y)\n",
    "    prediction = model.predict(test_X)\n",
    "    a = a.append(pd.Series(metrics.accuracy_score(prediction, test_y)))\n",
    "plt.plot(a_index, a)\n",
    "x = [1,2,3,4,5,6,7,8,9,10]\n",
    "plt.xticks(x)"
   ]
  },
  {
   "cell_type": "code",
   "execution_count": null,
   "metadata": {
    "collapsed": true
   },
   "outputs": [],
   "source": []
  }
 ],
 "metadata": {
  "kernelspec": {
   "display_name": "Python 3",
   "language": "python",
   "name": "python3"
  },
  "language_info": {
   "codemirror_mode": {
    "name": "ipython",
    "version": 3
   },
   "file_extension": ".py",
   "mimetype": "text/x-python",
   "name": "python",
   "nbconvert_exporter": "python",
   "pygments_lexer": "ipython3",
   "version": "3.6.3"
  }
 },
 "nbformat": 4,
 "nbformat_minor": 2
}
